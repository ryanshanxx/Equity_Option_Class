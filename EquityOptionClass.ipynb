{
 "cells": [
  {
   "cell_type": "code",
   "execution_count": 1,
   "metadata": {},
   "outputs": [],
   "source": [
    "import numpy as np\n",
    "import scipy.stats as si\n",
    "class EquityOption:\n",
    "    r =0.0\n",
    "    def __init__(self, CallFlag, S, K, T, q, sigma):\n",
    "        self.CallFlag, self.S, self.K, self.T, self.q, self.sigma= (CallFlag, S, K, T, q, sigma)\n",
    "    #CallFlag: Call=1, put=0;    \n",
    "    #S: spot price\n",
    "    #K: strike price\n",
    "    #T: time to maturity\n",
    "    #r: interest rate\n",
    "    #q: rate of continuous dividend paying asset \n",
    "    #sigma: volatility of underlying asset\n",
    "    \n",
    "    @classmethod\n",
    "    def setInterest(cls, r):\n",
    "        cls.r= r\n",
    "    \n",
    "    @staticmethod\n",
    "    def price1(CallFlag, S, K, T, q, sigma):\n",
    "        d1 = (np.log(S / K) + (EquityOption.r -(q) + 0.5 * sigma ** 2) * T) / (sigma * np.sqrt(T))\n",
    "        d2 = (np.log(S / K) + (EquityOption.r - (q) - 0.5 * sigma ** 2) * T) / (sigma * np.sqrt(T))\n",
    "        if CallFlag==1:\n",
    "            return (S * np.exp(-q * T) * si.norm.cdf(d1, 0.0, 1.0) - K * np.exp(-EquityOption.r * T) * si.norm.cdf(d2, 0.0, 1.0))\n",
    "        if CallFlag==0:\n",
    "            return (K * np.exp(-EquityOption.r * T) * si.norm.cdf(-d2, 0.0, 1.0) - S * np.exp(-q * T) * si.norm.cdf(-d1, 0.0, 1.0))\n",
    "    \n",
    "    #class method\n",
    "    def price(self):\n",
    "        d1 = (np.log(self.S / self.K) + (EquityOption.r - (self.q) + 0.5 * self.sigma ** 2) * self.T) / (self.sigma * np.sqrt(self.T))\n",
    "        d2 = (np.log(self.S / self.K) + (EquityOption.r - (self.q) - 0.5 * self.sigma ** 2) * self.T) / (self.sigma * np.sqrt(self.T))\n",
    "        if self.CallFlag==1:\n",
    "            return (self.S * np.exp(-self.q * self.T) * si.norm.cdf(d1, 0.0, 1.0) - self.K * np.exp(-EquityOption.r * self.T) * si.norm.cdf(d2, 0.0, 1.0))\n",
    "        if self.CallFlag==0:\n",
    "            return (self.K * np.exp(-EquityOption.r * self.T) * si.norm.cdf(-d2, 0.0, 1.0) - self.S * np.exp(-self.q * self.T) * si.norm.cdf(-d1, 0.0, 1.0))\n",
    "    \n",
    "    def __repr__(self):\n",
    "        if self.CallFlag==1:\n",
    "            return 'OptionType: Call, Spot:'+str(self.S)+\" Strike:\"+str(self.K)+\" Maturity:\"+str(self.T)+\" Vol:\"+str(self.sigma)+ \" Dividend:\"+str(self.q)\n",
    "        if self.CallFlag==0:\n",
    "            return 'OptionType: Put, Spot:'+str(self.S)+\" Strike:\"+str(self.K)+\" Maturity:\"+str(self.T)+\" Vol:\"+str(self.sigma)+ \" Dividend:\"+str(self.q)\n",
    "    \n",
    "    def __imul__(self, stock_split):\n",
    "        self.S= self.S/stock_split\n",
    "        self.K= self.k/stock_split\n",
    "        \n",
    "    def delta(self):\n",
    "        d1 = (np.log(self.S / self.K) + (EquityOption.r - self.q + 0.5 * self.sigma ** 2) * self.T) / (self.sigma * np.sqrt(self.T))\n",
    "        d2 = (np.log(self.S / self.K) + (EquityOption.r - self.q - 0.5 * self.sigma ** 2) * self.T) / (self.sigma * np.sqrt(self.T))\n",
    "        if self.CallFlag==1:\n",
    "            return np.exp(-self.q * self.T) * si.norm.cdf(d1, 0.0, 1.0)\n",
    "        if self.CallFLag==0:\n",
    "            return (- self.S * np.exp(-self.q * self.T) * si.norm.cdf(-d1, 0.0, 1.0))\n",
    "    \n",
    "    def gamma(self):\n",
    "        d1 = (np.log(self.S / self.K) + (EquityOption.r - self.q + 0.5 * self.sigma ** 2) * self.T) / (self.sigma * np.sqrt(self.T))\n",
    "        d2 = (np.log(self.S / self.K) + (EquityOption.r - self.q - 0.5 * self.sigma ** 2) * self.T) / (self.sigma * np.sqrt(self.T))\n",
    "        return (np.exp(-self.q * self.T)/(self.S*self.sigma*np.sqrt(self.T))*np.exp(-d1*d1/2)/np.sqrt(2*np.pi))\n",
    "    \n",
    "    def vega(self):\n",
    "        d1 = (np.log(self.S / self.K) + (EquityOption.r - self.q + 0.5 * self.sigma ** 2) * self.T) / (self.sigma * np.sqrt(self.T))\n",
    "        d2 = (np.log(self.S / self.K) + (EquityOption.r - self.q - 0.5 * self.sigma ** 2) * self.T) / (self.sigma * np.sqrt(self.T))\n",
    "        return self.S*np.exp(-self.q*self.T)*si.norm.cdf(d1, 0.0, 1.0)*np.sqrt(self.T)\n",
    "    \n",
    "    def theta(self):\n",
    "        d1 = (np.log(self.S / self.K) + (EquityOption.r - self.q + 0.5 * self.sigma ** 2) * self.T) / (self.sigma * np.sqrt(self.T))\n",
    "        d2 = (np.log(self.S / self.K) + (EquityOption.r - self.q - 0.5 * self.sigma ** 2) * self.T) / (self.sigma * np.sqrt(self.T))\n",
    "        if self.CallFlag==1:    \n",
    "            return (1/self.T)*(-((self.S*self.sigma*np.exp(-self.q*self.T))/(2*np.sqrt(self.T))/np.sqrt(2*np.pi)*np.exp(-d1*d1/2))-EquityOption.r*self.K*np.exp(-EquityOption.r*self.T)*si.norm.cdf(d2, 0.0, 1.0)+self.q*self.S*np.exp(-self.q*self.T)*si.norm.cdf(d1, 0.0, 1.0))\n",
    "        if self.CallFlag==0:\n",
    "            return (1/self.T)*(-((self.S*self.sigma*np.exp(-self.q*self.T))/(2*np.sqrt(self.T))/np.sqrt(2*np.pi)*np.exp(-d1*d1/2))+EquityOption.r*self.K*np.exp(-EquityOption.r*self.T)*si.norm.cdf(-d2, 0.0, 1.0)-self.q*self.S*np.exp(-self.q*self.T)*si.norm.cdf(-d1, 0.0, 1.0))\n",
    "    \n",
    "    @staticmethod\n",
    "    def impliedVol_Newton(target_value, CallFlag, S, K, T, q):\n",
    "        PRECISION = 0.0001\n",
    "        sigma=0.5\n",
    "        for i in range(100):\n",
    "            self=EquityOption(CallFlag, S, K, T, q, sigma)\n",
    "            price= self.price()\n",
    "            vega= self.vega()\n",
    "            price=price\n",
    "            diff=target_value-price\n",
    "            if (abs(diff)<PRECISION):\n",
    "                return sigma\n",
    "            sigma=sigma+diff/vega #fx/f'x\n",
    "        return sigma\n",
    "    \n",
    "    \n",
    "    @staticmethod \n",
    "    def impliedVol_Biset(mktPrice, CallFlag, S, K, T, q):\n",
    "        a=0.001\n",
    "        b=5\n",
    "        c=(a+b)/2\n",
    "        PRECISION=0.0001\n",
    "        diff=1\n",
    "        for i in range(100):\n",
    "            o=EquityOption.price1(CallFlag, S, K, T, q, a)\n",
    "            p=EquityOption.price1(CallFlag, S, K, T, q, b)\n",
    "            q=EquityOption.price1(CallFlag, S, K, T, q, c)\n",
    "            \n",
    "            if (o-mktPrice)*(q-mktPrice)<0:\n",
    "                b=c\n",
    "            elif (p-mktPrice)*(q-mktPrice)<0:\n",
    "                a=c\n",
    "            c=(a+b)/2\n",
    "            diff=q-mktPrice\n",
    "            if (abs(diff)<PRECISION):\n",
    "                return c\n",
    "        return c\n",
    "                "
   ]
  },
  {
   "cell_type": "code",
   "execution_count": 2,
   "metadata": {
    "scrolled": true
   },
   "outputs": [
    {
     "data": {
      "text/plain": [
       "17.498931084536935"
      ]
     },
     "execution_count": 2,
     "metadata": {},
     "output_type": "execute_result"
    }
   ],
   "source": [
    "import datetime\n",
    "p3=EquityOption(1,586.08,585,(datetime.date(2014,10,18) - datetime.date(2014,9,8)).days/365,0,0.2192)\n",
    "EquityOption.setInterest(0.0002)\n",
    "p3.price()"
   ]
  },
  {
   "cell_type": "code",
   "execution_count": 3,
   "metadata": {},
   "outputs": [
    {
     "data": {
      "text/plain": [
       "0.21921468593888846"
      ]
     },
     "execution_count": 3,
     "metadata": {},
     "output_type": "execute_result"
    }
   ],
   "source": [
    "#testing newton method\n",
    "EquityOption.setInterest(0.0002)\n",
    "vol1=EquityOption.impliedVol_Newton(17.5,1,586.08,585,(datetime.date(2014,10,18) - datetime.date(2014,9,8)).days/365,0)\n",
    "vol1\n",
    "\n",
    "#def __init__(self, CallFlag, S, K, T, q, sigma):"
   ]
  },
  {
   "cell_type": "code",
   "execution_count": 4,
   "metadata": {},
   "outputs": [
    {
     "data": {
      "text/plain": [
       "0.21920471763610838"
      ]
     },
     "execution_count": 4,
     "metadata": {},
     "output_type": "execute_result"
    }
   ],
   "source": [
    "#testing biset method\n",
    "EquityOption.setInterest(0.0002)\n",
    "vol2=EquityOption.impliedVol_Biset(17.5,1,586.08,585,(datetime.date(2014,10,18) - datetime.date(2014,9,8)).days/365,0)\n",
    "vol2"
   ]
  },
  {
   "cell_type": "code",
   "execution_count": null,
   "metadata": {},
   "outputs": [],
   "source": []
  }
 ],
 "metadata": {
  "kernelspec": {
   "display_name": "Python 3",
   "language": "python",
   "name": "python3"
  },
  "language_info": {
   "codemirror_mode": {
    "name": "ipython",
    "version": 3
   },
   "file_extension": ".py",
   "mimetype": "text/x-python",
   "name": "python",
   "nbconvert_exporter": "python",
   "pygments_lexer": "ipython3",
   "version": "3.7.3"
  }
 },
 "nbformat": 4,
 "nbformat_minor": 2
}
